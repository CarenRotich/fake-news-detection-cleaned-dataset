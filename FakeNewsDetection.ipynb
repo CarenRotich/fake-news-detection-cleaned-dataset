{
 "cells": [
  {
   "cell_type": "code",
   "execution_count": 2,
   "id": "931e537f-cc19-476e-836a-42bfd8322498",
   "metadata": {},
   "outputs": [],
   "source": [
    "import pandas as pd\n",
    "import numpy as np\n",
    "import matplotlib.pyplot as plt\n",
    "import seaborn as sns\n"
   ]
  },
  {
   "cell_type": "code",
   "execution_count": 9,
   "id": "ff2f7647-597f-49b3-abbb-3b033a179893",
   "metadata": {},
   "outputs": [],
   "source": [
    "df=pd.read_csv(r\"C:\\Users\\smrc\\OneDrive\\Desktop\\WELFake_Dataset.csv\")"
   ]
  },
  {
   "cell_type": "code",
   "execution_count": null,
   "id": "413519d5-751f-4a88-a155-8e761e0bb3e7",
   "metadata": {},
   "outputs": [],
   "source": []
  },
  {
   "cell_type": "code",
   "execution_count": 13,
   "id": "b9de1205-47fb-41f0-bdf7-c3e8646a1e7e",
   "metadata": {},
   "outputs": [
    {
     "data": {
      "text/html": [
       "<div>\n",
       "<style scoped>\n",
       "    .dataframe tbody tr th:only-of-type {\n",
       "        vertical-align: middle;\n",
       "    }\n",
       "\n",
       "    .dataframe tbody tr th {\n",
       "        vertical-align: top;\n",
       "    }\n",
       "\n",
       "    .dataframe thead th {\n",
       "        text-align: right;\n",
       "    }\n",
       "</style>\n",
       "<table border=\"1\" class=\"dataframe\">\n",
       "  <thead>\n",
       "    <tr style=\"text-align: right;\">\n",
       "      <th></th>\n",
       "      <th>Unnamed: 0</th>\n",
       "      <th>title</th>\n",
       "      <th>text</th>\n",
       "      <th>label</th>\n",
       "    </tr>\n",
       "  </thead>\n",
       "  <tbody>\n",
       "    <tr>\n",
       "      <th>0</th>\n",
       "      <td>0</td>\n",
       "      <td>LAW ENFORCEMENT ON HIGH ALERT Following Threat...</td>\n",
       "      <td>No comment is expected from Barack Obama Membe...</td>\n",
       "      <td>1</td>\n",
       "    </tr>\n",
       "    <tr>\n",
       "      <th>1</th>\n",
       "      <td>1</td>\n",
       "      <td>NaN</td>\n",
       "      <td>Did they post their votes for Hillary already?</td>\n",
       "      <td>1</td>\n",
       "    </tr>\n",
       "    <tr>\n",
       "      <th>2</th>\n",
       "      <td>2</td>\n",
       "      <td>UNBELIEVABLE! OBAMA’S ATTORNEY GENERAL SAYS MO...</td>\n",
       "      <td>Now, most of the demonstrators gathered last ...</td>\n",
       "      <td>1</td>\n",
       "    </tr>\n",
       "    <tr>\n",
       "      <th>3</th>\n",
       "      <td>3</td>\n",
       "      <td>Bobby Jindal, raised Hindu, uses story of Chri...</td>\n",
       "      <td>A dozen politically active pastors came here f...</td>\n",
       "      <td>0</td>\n",
       "    </tr>\n",
       "    <tr>\n",
       "      <th>4</th>\n",
       "      <td>4</td>\n",
       "      <td>SATAN 2: Russia unvelis an image of its terrif...</td>\n",
       "      <td>The RS-28 Sarmat missile, dubbed Satan 2, will...</td>\n",
       "      <td>1</td>\n",
       "    </tr>\n",
       "  </tbody>\n",
       "</table>\n",
       "</div>"
      ],
      "text/plain": [
       "   Unnamed: 0                                              title  \\\n",
       "0           0  LAW ENFORCEMENT ON HIGH ALERT Following Threat...   \n",
       "1           1                                                NaN   \n",
       "2           2  UNBELIEVABLE! OBAMA’S ATTORNEY GENERAL SAYS MO...   \n",
       "3           3  Bobby Jindal, raised Hindu, uses story of Chri...   \n",
       "4           4  SATAN 2: Russia unvelis an image of its terrif...   \n",
       "\n",
       "                                                text  label  \n",
       "0  No comment is expected from Barack Obama Membe...      1  \n",
       "1     Did they post their votes for Hillary already?      1  \n",
       "2   Now, most of the demonstrators gathered last ...      1  \n",
       "3  A dozen politically active pastors came here f...      0  \n",
       "4  The RS-28 Sarmat missile, dubbed Satan 2, will...      1  "
      ]
     },
     "execution_count": 13,
     "metadata": {},
     "output_type": "execute_result"
    }
   ],
   "source": [
    "#head\n",
    "df.head()"
   ]
  },
  {
   "cell_type": "code",
   "execution_count": 15,
   "id": "e9217d42-6466-4644-b38d-01e7f107cf4b",
   "metadata": {},
   "outputs": [
    {
     "data": {
      "text/html": [
       "<div>\n",
       "<style scoped>\n",
       "    .dataframe tbody tr th:only-of-type {\n",
       "        vertical-align: middle;\n",
       "    }\n",
       "\n",
       "    .dataframe tbody tr th {\n",
       "        vertical-align: top;\n",
       "    }\n",
       "\n",
       "    .dataframe thead th {\n",
       "        text-align: right;\n",
       "    }\n",
       "</style>\n",
       "<table border=\"1\" class=\"dataframe\">\n",
       "  <thead>\n",
       "    <tr style=\"text-align: right;\">\n",
       "      <th></th>\n",
       "      <th>Unnamed: 0</th>\n",
       "      <th>title</th>\n",
       "      <th>text</th>\n",
       "      <th>label</th>\n",
       "    </tr>\n",
       "  </thead>\n",
       "  <tbody>\n",
       "    <tr>\n",
       "      <th>72129</th>\n",
       "      <td>72129</td>\n",
       "      <td>Russians steal research on Trump in hack of U....</td>\n",
       "      <td>WASHINGTON (Reuters) - Hackers believed to be ...</td>\n",
       "      <td>0</td>\n",
       "    </tr>\n",
       "    <tr>\n",
       "      <th>72130</th>\n",
       "      <td>72130</td>\n",
       "      <td>WATCH: Giuliani Demands That Democrats Apolog...</td>\n",
       "      <td>You know, because in fantasyland Republicans n...</td>\n",
       "      <td>1</td>\n",
       "    </tr>\n",
       "    <tr>\n",
       "      <th>72131</th>\n",
       "      <td>72131</td>\n",
       "      <td>Migrants Refuse To Leave Train At Refugee Camp...</td>\n",
       "      <td>Migrants Refuse To Leave Train At Refugee Camp...</td>\n",
       "      <td>0</td>\n",
       "    </tr>\n",
       "    <tr>\n",
       "      <th>72132</th>\n",
       "      <td>72132</td>\n",
       "      <td>Trump tussle gives unpopular Mexican leader mu...</td>\n",
       "      <td>MEXICO CITY (Reuters) - Donald Trump’s combati...</td>\n",
       "      <td>0</td>\n",
       "    </tr>\n",
       "    <tr>\n",
       "      <th>72133</th>\n",
       "      <td>72133</td>\n",
       "      <td>Goldman Sachs Endorses Hillary Clinton For Pre...</td>\n",
       "      <td>Goldman Sachs Endorses Hillary Clinton For Pre...</td>\n",
       "      <td>1</td>\n",
       "    </tr>\n",
       "  </tbody>\n",
       "</table>\n",
       "</div>"
      ],
      "text/plain": [
       "       Unnamed: 0                                              title  \\\n",
       "72129       72129  Russians steal research on Trump in hack of U....   \n",
       "72130       72130   WATCH: Giuliani Demands That Democrats Apolog...   \n",
       "72131       72131  Migrants Refuse To Leave Train At Refugee Camp...   \n",
       "72132       72132  Trump tussle gives unpopular Mexican leader mu...   \n",
       "72133       72133  Goldman Sachs Endorses Hillary Clinton For Pre...   \n",
       "\n",
       "                                                    text  label  \n",
       "72129  WASHINGTON (Reuters) - Hackers believed to be ...      0  \n",
       "72130  You know, because in fantasyland Republicans n...      1  \n",
       "72131  Migrants Refuse To Leave Train At Refugee Camp...      0  \n",
       "72132  MEXICO CITY (Reuters) - Donald Trump’s combati...      0  \n",
       "72133  Goldman Sachs Endorses Hillary Clinton For Pre...      1  "
      ]
     },
     "execution_count": 15,
     "metadata": {},
     "output_type": "execute_result"
    }
   ],
   "source": [
    "#tail\n",
    "df.tail()"
   ]
  },
  {
   "cell_type": "code",
   "execution_count": 17,
   "id": "c45130e4-e540-4f99-aa1e-6510cd555f65",
   "metadata": {},
   "outputs": [
    {
     "data": {
      "text/plain": [
       "(72134, 4)"
      ]
     },
     "execution_count": 17,
     "metadata": {},
     "output_type": "execute_result"
    }
   ],
   "source": [
    "df.shape"
   ]
  },
  {
   "cell_type": "code",
   "execution_count": 22,
   "id": "cb55033e-7546-4548-95c3-c9488683f1d9",
   "metadata": {},
   "outputs": [
    {
     "name": "stdout",
     "output_type": "stream",
     "text": [
      "<class 'pandas.core.frame.DataFrame'>\n",
      "RangeIndex: 72134 entries, 0 to 72133\n",
      "Data columns (total 4 columns):\n",
      " #   Column      Non-Null Count  Dtype \n",
      "---  ------      --------------  ----- \n",
      " 0   Unnamed: 0  72134 non-null  int64 \n",
      " 1   title       71576 non-null  object\n",
      " 2   text        72095 non-null  object\n",
      " 3   label       72134 non-null  int64 \n",
      "dtypes: int64(2), object(2)\n",
      "memory usage: 2.2+ MB\n"
     ]
    }
   ],
   "source": [
    "df.info()"
   ]
  },
  {
   "cell_type": "code",
   "execution_count": 26,
   "id": "e820ba72-619f-425d-b6a1-762826885a5d",
   "metadata": {},
   "outputs": [
    {
     "data": {
      "text/plain": [
       "Unnamed: 0      0\n",
       "title         558\n",
       "text           39\n",
       "label           0\n",
       "dtype: int64"
      ]
     },
     "execution_count": 26,
     "metadata": {},
     "output_type": "execute_result"
    }
   ],
   "source": [
    "#check for missing values\n",
    "df.isnull().sum()"
   ]
  },
  {
   "cell_type": "code",
   "execution_count": 29,
   "id": "5d88d41e-a19a-4e2c-be34-7adb65a16b90",
   "metadata": {},
   "outputs": [
    {
     "data": {
      "text/plain": [
       "0"
      ]
     },
     "execution_count": 29,
     "metadata": {},
     "output_type": "execute_result"
    }
   ],
   "source": [
    "#check for duplicates\n",
    "df.duplicated().sum()"
   ]
  },
  {
   "cell_type": "code",
   "execution_count": 44,
   "id": "12df3bc4-e635-4b10-b5ef-37904a974938",
   "metadata": {},
   "outputs": [
    {
     "name": "stdout",
     "output_type": "stream",
     "text": [
      "title\n",
      "Factbox: Trump fills top jobs for his administration                                                  14\n",
      "Get Ready For Civil Unrest: Survey Finds That Most Americans Are Concerned About Election Violence     8\n",
      "Highlights: The Trump presidency on April 13 at 9:30 P.M. EDT/0130 GMT on Friday                       8\n",
      "Factbox: Contenders for senior jobs in Trump's administration                                          8\n",
      "Michael Moore Owes Me $4.99                                                                            7\n",
      "                                                                                                      ..\n",
      "Population of Vertebrate Animals Fell 58% From 1970-2012                                               1\n",
      "Italy's Renzi pledges to hike budget deficit if he wins election                                       1\n",
      "Motion Picture Academy, After Diversifying, Keeps Leadership Intact - The New York Times               1\n",
      "Donald Trump, Delhi, Theresa May: Your Monday Briefing - The New York Times                            1\n",
      "Trump tussle gives unpopular Mexican leader much-needed shot in arm                                    1\n",
      "Name: count, Length: 62347, dtype: int64\n",
      "******************************\n",
      "text\n",
      "                                                                                                                                                                                                                                                                                                                                                                                                                                                                                                                                                                                                                                                                                                                                                                                                                                                                                                                                                                                                                                                                                                                                                                                                                                                                                                                                                                                                                                                                                                                                                                                                                                                                                                                                                                                                                                                                                                                                                                                                                                                                                                                                                                                                                                                                                                                                                                                                                                                                                                                                                                                                                                                                                                                                                                                                                                                                                                                                                                                                                                                                                                                                                                                                                                                                                                                                                                                                                                                                                                                                                                                                                                                                                                                                                                                                                                                                                                                                                                                                                                                                                       738\n",
      "Killing Obama administration rules, dismantling Obamacare and pushing through tax reform are on the early to-do list.                                                                                                                                                                                                                                                                                                                                                                                                                                                                                                                                                                                                                                                                                                                                                                                                                                                                                                                                                                                                                                                                                                                                                                                                                                                                                                                                                                                                                                                                                                                                                                                                                                                                                                                                                                                                                                                                                                                                                                                                                                                                                                                                                                                                                                                                                                                                                                                                                                                                                                                                                                                                                                                                                                                                                                                                                                                                                                                                                                                                                                                                                                                                                                                                                                                                                                                                                                                                                                                                                                                                                                                                                                                                                                                                                                                                                                                                                                                                                                   58\n",
      "Click Here To Learn More About Alexandra's Personalized Essences Psychic Protection Click Here for More Information on Psychic Protection! Implant Removal Series Click here to listen to the IRP and SA/DNA Process Read The Testimonials Click Here To Read What Others Are Experiencing! Copyright © 2012 by Galactic Connection. All Rights Reserved. \\nExcerpts may be used, provided that full and clear credit is given to Alexandra Meadors and www.galacticconnection.com with appropriate and specific direction to the original content. Unauthorized use and/or duplication of any material on this website without express and written permission from its author and owner is strictly prohibited. Thank you. \\nPrivacy Policy \\nBy subscribing to GalacticConnection.com you acknowledge that your name and e-mail address will be added to our database. As with all other personal information, only working affiliates of GalacticConnection.com have access to this data. We do not give GalacticConnection.com addresses to outside companies, nor will we ever rent or sell your email address. Any e-mail you send to GalacticConnection.com is completely confidential. Therefore, we will not add your name to our e-mail list without your permission. Continue reading... Galactic Connection 2016 | Design & Development by AA at Superluminal Systems Sign Up forOur Newsletter \\nJoin our newsletter to receive exclusive updates, interviews, discounts, and more. Join Us!                                                                                                                                                                                                                                                                                                                                                                                                                                                                                                                                                                                                                                                                                                                                                                                                                                                                                                                                                                                                                                                                                                                                                                                                                                                                                                                                                                                                                                                                                                                                                                                                                                                                                                                                                                                                                                                                                                                                                                                                                                                                                                                                                                                                                                                                                                                                                                                                                                                                                                                                                                               36\n",
      "Leave a Reply Click here to get more info on formatting (1) Leave the name field empty if you want to post as Anonymous. It's preferable that you choose a name so it becomes clear who said what. E-mail address is not mandatory either. The website automatically checks for spam. Please refer to our moderation policies for more details. We check to make sure that no comment is mistakenly marked as spam. This takes time and effort, so please be patient until your comment appears. Thanks. (2) 10 replies to a comment are the maximum. (3) Here are formating examples which you can use in your writing:<b>bold text</b> results in bold text <i>italic text</i> results in italic text (You can also combine two formating tags with each other, for example to get bold-italic text.)<em>emphasized text</em> results in emphasized text <strong>strong text</strong> results in strong text <q>a quote text</q> results in a quote text (quotation marks are added automatically) <cite>a phrase or a block of text that needs to be cited</cite> results in: a phrase or a block of text that needs to be cited <blockquote>a heavier version of quoting a block of text...</blockquote> results in: a heavier version of quoting a block of text that can span several lines. Use these possibilities appropriately. They are meant to help you create and follow the discussions in a better way. They can assist in grasping the content value of a comment more quickly. and last but not least:<a href=''http://link-address.com''>Name of your link</a> results in Name of your link (4) No need to use this special character in between paragraphs:  ; You do not need it anymore. Just write as you like and your paragraphs will be separated. The \"Live Preview\" appears automatically when you start typing below the text area and it will show you how your comment will look like before you send it. (5) If you now think that this is too confusing then just ignore the code above and write as you like. Name:                                                                                                                                                                                                                                                                                                                                                                                                                                                                                                                                                                                                                                                                                                                                                                                                                                                                                                                                                                                                                                                                                                                                                                                                                                                                                                                                                                                                                                                                                                                                                                                                                                                                                                                                                                                                                                                                                                                                                                                                                                   36\n",
      "source Add To The Conversation Using Facebook Comments                                                                                                                                                                                                                                                                                                                                                                                                                                                                                                                                                                                                                                                                                                                                                                                                                                                                                                                                                                                                                                                                                                                                                                                                                                                                                                                                                                                                                                                                                                                                                                                                                                                                                                                                                                                                                                                                                                                                                                                                                                                                                                                                                                                                                                                                                                                                                                                                                                                                                                                                                                                                                                                                                                                                                                                                                                                                                                                                                                                                                                                                                                                                                                                                                                                                                                                                                                                                                                                                                                                                                                                                                                                                                                                                                                                                                                                                                                                                                                                                                                  33\n",
      "                                                                                                                                                                                                                                                                                                                                                                                                                                                                                                                                                                                                                                                                                                                                                                                                                                                                                                                                                                                                                                                                                                                                                                                                                                                                                                                                                                                                                                                                                                                                                                                                                                                                                                                                                                                                                                                                                                                                                                                                                                                                                                                                                                                                                                                                                                                                                                                                                                                                                                                                                                                                                                                                                                                                                                                                                                                                                                                                                                                                                                                                                                                                                                                                                                                                                                                                                                                                                                                                                                                                                                                                                                                                                                                                                                                                                                                                                                                                                                                                                                                                                      ... \n",
      "QUEBRADILLAS, Puerto Rico (Reuters) - When Nestor Rodriguez saw Puma Energy fuel tanker 333 pull into Puerto Rico s Quebradillas gas station at 12:37 p.m. on Monday, he bowed, raising his arms to the heavens.   I didn t know if it would come today, or if wouldn t,  he said as he filled up his tank, after a three-hour wait in the Caribbean sun.  When I saw that truck, I saw the glory. It was like seeing the Lord.  Two weeks after Hurricane Maria plowed into the U.S. territory of Puerto Rico, cutting power and hobbling fuel distribution, finding gasoline and diesel has become a regular ordeal for the island s 3.4 million residents, with no guarantee of success. Rodriguez, a 63-year-old retiree with a bright shock of white hair and beard, was one of the lucky few on Monday. He managed to purchase enough gasoline for both his car and his generator at home, where he cares for his 93-year-old father. Fuel scarcity has been one of the major headaches facing hurricane-ravaged Puerto Rico, which relies on gas shipped from the U.S. mainland.  Puerto Rico Governor Ricardo Rossello on Monday reported progress in getting fuel supplies to the island, with 500,000 barrels of diesel and close to 1 million barrels of gasoline due to arrive in upcoming days. More than 720 of the island s 1,100 gas stations were now up and running, Rossello added, which he said should allow more Puerto Ricans to operate generators and get around. Puma Energy, which is partially owned by commodities trading giant Trafigura, operates six terminals on the Caribbean island, and is working with the regional government to add more delivery trucks to its fleet. To assess the scale of the problem, Reuters joined a Puma delivery truck and its 49-year-old driver, Carlos Ramos, on a journey from Puma s fuel distribution center in Bayamon, to a gas station in Quebradillas, some 55 miles (88 km) west.  Ramos pulled out of the Bayamon facility at 10:38 a.m., escorted by two police vehicles responsible for protecting his precious 10,000-gallon (38,000 liter) load. Ramos said he had made more than 30 deliveries since Maria hit, and was often greeted with elation when he arrived at gas stations. At some, bands played to celebrate the truck s arrival, while at others, he felt like a politician arriving at a rally.   If there s no line when we arrive, there will be soon,  Ramos said.  It s like putting out a little candy, and suddenly all the ants arrive.  When Ramos  eventually got to Quebradillas, nine cars were waiting. Within 10 minutes, the line had grown to 42 vehicles, with more arriving every few seconds. Luz Preciado, a 34-year-old housewife, said she had been waiting at a nearby station, when she saw Ramos  truck drive by, and decided to give chase, despite the fact that her fuel gauge was blinking on empty.  When you see water, and when you see gas - that s happiness in Puerto Rico right now,  said Preciado, who had slept overnight in her car with her two kids a few days earlier to be first in line for a morning fuel delivery.  Looking for gas is a full-time job right now.  Inside the gas station, 44-year-old Puma employee Waldemar Sosa said he normally sold about 1,400 gallons during a typical 6 a.m.-10 p.m. day. On Sunday, he said, he sold 12,000 gallons - all the fuel he had - in about 13 hours. Sosa said that with no cellphone coverage to phone in orders, the owner of the gas station was forced to travel to San Juan to write Puma a check for more fuel.  Without communication, this country doesn t move,  he said.  At 1:55 p.m., Juan Gonzalez rolled out of Sosa s station, the first person to leave with a full tank since 9 p.m. the previous evening, to go eat a simple of lunch of sausage and rice with his elderly parents.  We re going through a difficult moment,  he said, leaning out of his car window with a look of hard-won relief.  We re in God s hands.                                             1\n",
      "As more and more details emerge concerning Friday’s Ramadan attack on a busload of Christians on pilgrimage, the more it becomes evident that these 29 martyrs died solely because they were Christians. [Survivors of the attack said that the ten masked Islamic State militants did not merely open fire on the bus full of Christian pilgrims on their way to the Monastery of Saint Samuel the Confesor, but that the victims were made to descend from the bus and asked one by one whether they were Christians before being shot by the assailants.  According to one of the chaplains of the group, Father Rashed, as each pilgrim came off the bus they were asked to renounce their Christian faith and profess belief in Islam, but all of them —  even the children —  refused. Each was killed in cold blood with a gunshot to the head or the throat. In a statement Friday, President Donald Trump said the “merciless slaughter of Christians in Egypt tears at our hearts and grieves our souls. ” “Wherever innocent blood is spilled, a wound is inflicted upon humanity,” the statement said. “But this attack also steels our resolve to bring nations together for the righteous purpose of crushing the evil organizations of terror, and exposing their depraved, twisted, and thuggish ideology. ” The attack occurred in the midst of a   state of emergency period in Egypt following twin attacks on Coptic churches on Palm Sunday last month that killed some 46 Christians who were in church honoring the celebrations. The Islamic State claimed responsibility for those attacks as well. On Saturday, the Islamic State claimed responsibility for Friday’s slaughter through its Amaq news agency. BREAKING: #ISIS claimed credit through its ‘Amaq News Agency for the killing of Coptic Christians in #Minya in southern #Egypt pic. twitter.   —   SITE Intel Group (@siteintelgroup) May 27, 2017,  On learning more details of Friday’s attack, Pope Francis declared that the victims were “martyrs,” telling thousands of pilgrims gathered in St. Peter’s Square on Sunday that the murdered Christians, amongst whom were a number of children, “were killed after having refused to renounce their Christian faith. ” Reiterating his closeness to the whole Egyptian nation that two days ago suffered “another act of ferocious violence,” the Pope prayed that the Lord might “welcome these courageous witnesses, these martyrs, in his peace and convert the hearts of the terrorists. ” On Saturday, during a pastoral visit to Genoa, Francis prayed for the victims of the attack and lamented that there were more martyrs today than in early Christian times. He also tweeted about the event, requesting prayers for “our Coptic brethren in Egypt” and highlighting the religious motivation behind the assault. Let us pray for our Coptic brethren in Egypt who were killed because they did not want to renounce the faith.  —   Pope Francis (@Pontifex) May 27, 2017,  While European leaders repeatedly stressed the importance of combating “global warming” during a recent meeting of the G7 in Taormina, Italy, President Donald Trump stressed the absolute priority of fighting the real and present danger of Islamic terrorism. The President delivered a powerful speech against Islamist terrorism before 55 world leaders from Arab and other   nations in Riyadh earlier this week. In that speech, Trump called for unity in pursuing “the one goal that transcends every other consideration. That goal is to meet history’s great test —  to conquer extremism and vanquish the forces of terrorism. ” In this unique and preeminent task, Trump said, “  countries must take the lead in combating radicalization. ” “Every time a terrorist murders an innocent person, and falsely invokes the name of God, it should be an insult to every person of faith,” Mr. Trump said. “Terrorists do not worship God, they worship death. ” Follow Thomas D. Williams on Twitter Follow @tdwilliamsrome      1\n",
      "In addition to his customary invective against European governments for refusing to allow his ministers to rally Turkish expatriates behind him, President Recep Tayyip Erdogan said on Thursday that the EU’s new ban on headscarves in the workplace would launch “a struggle between the cross and the crescent. ”[“Where is the liberty of religion? They have commenced a struggle between the cross and crescent. There is no other explanation than this. I am saying this clearly: Europe is heading toward the days just before World War II,” said Erdogan, as rendered by Hurriyet Daily News.  Euractiv transcribes Erdogan’s quote as, “The European Union’s court, the European Court of Justice, my esteemed brothers, have started a crusade struggle against the crescent,” which would be even more incendiary. Jihad and Islamist groups perpetually accuse Western powers of conducting another “crusade” against Muslims. “Shame on the EU. Down with your European principles, values, and justice,” Erdogan told his supporters. In a tirade on Wednesday, Erdogan said the “spirit of fascism is roaming the streets of Europe,” comparing the treatment of Muslims to how the Nazis treated Jews. “The fear of the Turks is beginning to appear. The fear of Islam is beginning to appear. They are even afraid of the migrants looking for asylum. They fear everything which originates elsewhere they are hostile to everything that is not from there,” he thundered. Also speaking on Thursday, Turkish Foreign Minister Mevlut Cavusoglu predicted that “holy wars” would soon begin in Europe. As translated by Hurriyet Daily News, Cavusoglu said: Now the election is over in the Netherlands.   …     When you look at the many parties you see there is no difference between the social democrats and fascist [Geert] Wilders. All have the same mentality. Where will you go? Where are you taking Europe? You have begun to collapse Europe. You are dragging Europe into the abyss. Holy wars will soon begin in Europe. “They killed each other 100 years ago because they were of different faiths, but they learned a lesson from this and set up the European Union and the Council of Europe,” Cavusoglu continued, prompting a bit of   from Hurriyet about exactly what he was driving at. Like Cavusoglu, Erdogan took some time on Thursday to thumb his nose at the Netherlands, taunting   Prime Minister Mark Rutte: “O Rutte! You may have been first in the elections, but you have lost a friend like Turkey. ” He went on to needle Rutte about refusing to have dinner with him because “there is no such prime minister here  —   give it up, you have lost. ” Presumably, this was Erdogan’s way of treating Rutte as beneath his notice. Erdogan wrapped up his remarks by threatening to scuttle Turkey’s migrant readmission agreement with the European Union. “They have promised to remove visas. Now they are talking about a readmission plan. What readmission? Get over it! You did not let my minister enter the Netherlands, you did not give permission to my foreign minister to fly to the country and did not let the minister get into the consulate building, which is my territory. Then you are expecting readmission? There is no such thing,” Erdogan said.                                                                                                                                                                                                                                                                                                                                                                                                                                                                                                                                                                                                                                                                                                                                            1\n",
      "WASHINGTON (Reuters) - U.S. President Donald Trump will nominate Goldman Sachs (GS.N) banker James Donovan as deputy Treasury secretary, the White House said on Tuesday, adding another alumnus of the Wall Street investment bank to his administration. Treasury Secretary Steven Mnuchin and National Economic Council director Gary Cohn are also former Goldman executives who occupy senior economic posts within the administration. Donovan’s work at the bank as a managing director has included work on corporate strategy, investment banking and investment management, the White House said in a statement. He is expected to work on the Trump administration’s domestic policy agenda at Treasury. The White House also named David Malpass, a former official in the Ronald Reagan and George H.W. Bush administrations, as its nominee for Treasury undersecretary for international affairs, a key economic diplomacy post.   Malpass also served as a former economist at Wall Street bank Bear Stearns prior to its 2008 collapse and most recently served as an economic adviser to Trump’s campaign. The White House also named former national security and federal law enforcement official Sigal Mandelker to the Treasury’s top sanctions post as undersecretary for terrorism and financial intelligence.  A former law clerk for Supreme Court Justice Clarence Thomas, Mandelker later held a series of criminal prosecution positions at the Department of Justice and advised the Secretary of Homeland Security during the George W. Bush administration.                                                                                                                                                                                                                                                                                                                                                                                                                                                                                                                                                                                                                                                                                                                                                                                                                                                                                                                                                                                                                                                                                                                                                                                                                                                                                                                                                                                                                                                                                                                                                                                                                                                                                                                                                                                                                                                                                                                                                                                                                                                                                                                                                                                                                                                                                                                                                                                                                                                                                              1\n",
      "MEXICO CITY (Reuters) - Donald Trump’s combative style has buffeted Mexico’s president for months, but deeply unpopular Enrique Pena Nieto may end up thanking the new U.S. president for prompting offended Mexicans to rally behind their leader.  From billionaire business magnate Carlos Slim to political opponents, there has been a groundswell of support for Pena Nieto, who has cut a lonely figure in months of bruising encounters with Trump. Often referred to by his initials EPN, Pena Nieto is laboring under the worst approval ratings of any Mexican president in decades due to discontent over corruption, gang violence, sluggish growth and a jump in fuel prices.     Trump’s threats to scrap the NAFTA trade deal with Mexico and build a border wall have caused anger and left Mexicans feeling fearful for the future. His challenge to Pena Nieto on Thursday - saying he should skip a planned summit between the two leaders if Mexico wasn’t willing to pay for the wall - was the final straw. Pena Nieto replied a couple of hours later that he had canceled his meeting with Trump, one of the president’s biggest ever hits on Twitter, getting more “likes” than when he personally broke news of the capture of notorious drug lord Joaquin “El Chapo” Guzman in January of last year. “Bravo EPN!,” cheered former President Vicente Fox, who had initially condemned Pena Nieto for inviting Trump to Mexico for talks last August, and who has waged a colorful and expletive-ridden campaign against the Republican on Twitter. Pena Nieto and Trump talked for about an hour by phone on Friday, pledging to work out their differences and agreeing not to speak about the wall in public for now. Meanwhile, calls for unity grew in Mexico, led by Slim, a normally media-shy 76-year-old who gave a 90-minute news conference in support of the government on Friday. “This is the most surprising example of national unity I’ve seen in my life,” said Slim, who spent several years in the past decade as the world’s richest man. “We have to back the president of Mexico so he can defend our national interests.” Senior opposition leaders also urged a common front. “It’s time to show unity and our commitment to Mexico,” Alejandra Barrales, head of the center-left Party of the Democratic Revolution (PRD), said on Twitter. Pena Nieto’s credibility has been battered by a widespread public perception that he has failed to battle corruption and indeed even encouraged it since a conflict-of-interest row embroiled him, his wife and a top minister in late 2014. Some opposition critics fear the government will try to use Trump as a screen to distract from its failings. However, two senior officials told Reuters they hoped Pena Nieto would seize the moment to act quickly and decisively to improve his image. Expressions of dismay at Trump’s behavior towards Mexico have almost become a national pastime, and talk of boycotts against U.S. companies is gathering steam on social media. Slim, when asked about boycotting at his news conference, said it wasn’t a good idea to turn on U.S. companies, which are creating jobs in Mexico. Some foreign companies voiced support for Mexico too. “I feel Mexico is being subjected to terror at the moment,” said Andreas Schindler, co-owner of German fruit wholesaler Don Limon’s parent Pilz Schindler, by phone from Hamburg. “We’re right behind Mexico.”                                                                                                                                                                                                                                                                                                                                                                                                                                                                                                                                                                            1\n",
      "Name: count, Length: 62718, dtype: int64\n",
      "******************************\n"
     ]
    }
   ],
   "source": [
    "#check for garbage values for the object type\n",
    "for i in df.select_dtypes(include=\"object\").columns:\n",
    "    print(df[i].value_counts())\n",
    "    print(\"***\"*10)"
   ]
  },
  {
   "cell_type": "code",
   "execution_count": 50,
   "id": "c817fd9a-643d-413d-8de5-ca1bdd9472bd",
   "metadata": {},
   "outputs": [
    {
     "data": {
      "text/html": [
       "<div>\n",
       "<style scoped>\n",
       "    .dataframe tbody tr th:only-of-type {\n",
       "        vertical-align: middle;\n",
       "    }\n",
       "\n",
       "    .dataframe tbody tr th {\n",
       "        vertical-align: top;\n",
       "    }\n",
       "\n",
       "    .dataframe thead th {\n",
       "        text-align: right;\n",
       "    }\n",
       "</style>\n",
       "<table border=\"1\" class=\"dataframe\">\n",
       "  <thead>\n",
       "    <tr style=\"text-align: right;\">\n",
       "      <th></th>\n",
       "      <th>count</th>\n",
       "      <th>mean</th>\n",
       "      <th>std</th>\n",
       "      <th>min</th>\n",
       "      <th>25%</th>\n",
       "      <th>50%</th>\n",
       "      <th>75%</th>\n",
       "      <th>max</th>\n",
       "    </tr>\n",
       "  </thead>\n",
       "  <tbody>\n",
       "    <tr>\n",
       "      <th>Unnamed: 0</th>\n",
       "      <td>72134.0</td>\n",
       "      <td>36066.500000</td>\n",
       "      <td>20823.436496</td>\n",
       "      <td>0.0</td>\n",
       "      <td>18033.25</td>\n",
       "      <td>36066.5</td>\n",
       "      <td>54099.75</td>\n",
       "      <td>72133.0</td>\n",
       "    </tr>\n",
       "    <tr>\n",
       "      <th>label</th>\n",
       "      <td>72134.0</td>\n",
       "      <td>0.514404</td>\n",
       "      <td>0.499796</td>\n",
       "      <td>0.0</td>\n",
       "      <td>0.00</td>\n",
       "      <td>1.0</td>\n",
       "      <td>1.00</td>\n",
       "      <td>1.0</td>\n",
       "    </tr>\n",
       "  </tbody>\n",
       "</table>\n",
       "</div>"
      ],
      "text/plain": [
       "              count          mean           std  min       25%      50%  \\\n",
       "Unnamed: 0  72134.0  36066.500000  20823.436496  0.0  18033.25  36066.5   \n",
       "label       72134.0      0.514404      0.499796  0.0      0.00      1.0   \n",
       "\n",
       "                 75%      max  \n",
       "Unnamed: 0  54099.75  72133.0  \n",
       "label           1.00      1.0  "
      ]
     },
     "execution_count": 50,
     "metadata": {},
     "output_type": "execute_result"
    }
   ],
   "source": [
    "df.describe().T"
   ]
  },
  {
   "cell_type": "code",
   "execution_count": 54,
   "id": "7332cf8d-af0f-4cc6-b241-408ce445dd16",
   "metadata": {},
   "outputs": [
    {
     "data": {
      "text/html": [
       "<div>\n",
       "<style scoped>\n",
       "    .dataframe tbody tr th:only-of-type {\n",
       "        vertical-align: middle;\n",
       "    }\n",
       "\n",
       "    .dataframe tbody tr th {\n",
       "        vertical-align: top;\n",
       "    }\n",
       "\n",
       "    .dataframe thead th {\n",
       "        text-align: right;\n",
       "    }\n",
       "</style>\n",
       "<table border=\"1\" class=\"dataframe\">\n",
       "  <thead>\n",
       "    <tr style=\"text-align: right;\">\n",
       "      <th></th>\n",
       "      <th>title</th>\n",
       "      <th>text</th>\n",
       "    </tr>\n",
       "  </thead>\n",
       "  <tbody>\n",
       "    <tr>\n",
       "      <th>count</th>\n",
       "      <td>71576</td>\n",
       "      <td>72095</td>\n",
       "    </tr>\n",
       "    <tr>\n",
       "      <th>unique</th>\n",
       "      <td>62347</td>\n",
       "      <td>62718</td>\n",
       "    </tr>\n",
       "    <tr>\n",
       "      <th>top</th>\n",
       "      <td>Factbox: Trump fills top jobs for his administ...</td>\n",
       "      <td></td>\n",
       "    </tr>\n",
       "    <tr>\n",
       "      <th>freq</th>\n",
       "      <td>14</td>\n",
       "      <td>738</td>\n",
       "    </tr>\n",
       "  </tbody>\n",
       "</table>\n",
       "</div>"
      ],
      "text/plain": [
       "                                                    title   text\n",
       "count                                               71576  72095\n",
       "unique                                              62347  62718\n",
       "top     Factbox: Trump fills top jobs for his administ...       \n",
       "freq                                                   14    738"
      ]
     },
     "execution_count": 54,
     "metadata": {},
     "output_type": "execute_result"
    }
   ],
   "source": [
    "df.describe(include=\"object\")"
   ]
  },
  {
   "cell_type": "code",
   "execution_count": 62,
   "id": "3260ec12-76bb-4650-aba5-71d63781c27c",
   "metadata": {},
   "outputs": [
    {
     "data": {
      "image/png": "[encoded data removed]",
      "text/plain": [
       "<Figure size 640x480 with 1 Axes>"
      ]
     },
     "metadata": {},
     "output_type": "display_data"
    }
   ],
   "source": [
    "#histogram to understand the distribution\n",
    "for i in df.select_dtypes(include=\"number\").columns:\n",
    "    sns.histplot(data=df,x=i)\n",
    "plt.show()"
   ]
  },
  {
   "cell_type": "code",
   "execution_count": 69,
   "id": "38541841-88ca-44fe-8a2e-992a818767f4",
   "metadata": {},
   "outputs": [
    {
     "data": {
      "image/png": "[encoded data removed]",
      "text/plain": [
       "<Figure size 640x480 with 1 Axes>"
      ]
     },
     "metadata": {},
     "output_type": "display_data"
    },
    {
     "data": {
      "image/png": "[encoded data removed]",
      "text/plain": [
       "<Figure size 640x480 with 1 Axes>"
      ]
     },
     "metadata": {},
     "output_type": "display_data"
    }
   ],
   "source": [
    "#boxplot to identify outliers\n",
    "for i in df.select_dtypes(include=\"number\").columns:\n",
    "    sns.boxplot(data=df,x=i)\n",
    "    plt.show()"
   ]
  },
  {
   "cell_type": "code",
   "execution_count": 73,
   "id": "7dcdee96-ea1b-4736-8673-905cb36a4943",
   "metadata": {},
   "outputs": [
    {
     "data": {
      "text/plain": [
       "Index(['Unnamed: 0', 'label'], dtype='object')"
      ]
     },
     "execution_count": 73,
     "metadata": {},
     "output_type": "execute_result"
    }
   ],
   "source": [
    "df.select_dtypes(include=\"number\").columns"
   ]
  },
  {
   "cell_type": "code",
   "execution_count": 78,
   "id": "8f213c88-fc73-486c-8e11-87bc979cc81c",
   "metadata": {},
   "outputs": [
    {
     "data": {
      "image/png": "[encoded data removed]",
      "text/plain": [
       "<Figure size 640x480 with 1 Axes>"
      ]
     },
     "metadata": {},
     "output_type": "display_data"
    }
   ],
   "source": [
    "#scatterplot to understand collinearity\n",
    "for i in ['Unnamed: 0']:\n",
    "    sns.scatterplot(data=df,x=1,y='label')\n",
    "    plt.show()"
   ]
  },
  {
   "cell_type": "code",
   "execution_count": 81,
   "id": "e3ffa3ee-ff06-4b7d-be95-2a50b41c7454",
   "metadata": {},
   "outputs": [],
   "source": [
    "#correlation with heatmap to interprate the relation and multicolliniariy\n",
    "s=df.select_dtypes(include=\"number\").corr()"
   ]
  },
  {
   "cell_type": "code",
   "execution_count": 128,
   "id": "62ea9bd4-13a5-4234-ac39-0605cada80f4",
   "metadata": {},
   "outputs": [
    {
     "data": {
      "text/plain": [
       "<Axes: >"
      ]
     },
     "execution_count": 128,
     "metadata": {},
     "output_type": "execute_result"
    },
    {
     "data": {
      "image/png": "[encoded data removed]",
      "text/plain": [
       "<Figure size 1000x1000 with 2 Axes>"
      ]
     },
     "metadata": {},
     "output_type": "display_data"
    }
   ],
   "source": [
    "plt.figure(figsize=(10,10))\n",
    "sns.heatmap(s,annot=True)"
   ]
  },
  {
   "cell_type": "code",
   "execution_count": 89,
   "id": "47e8ceeb-1a50-4774-98fb-20e1df752625",
   "metadata": {},
   "outputs": [
    {
     "data": {
      "text/plain": [
       "Unnamed: 0      0\n",
       "title         558\n",
       "text           39\n",
       "label           0\n",
       "dtype: int64"
      ]
     },
     "execution_count": 89,
     "metadata": {},
     "output_type": "execute_result"
    }
   ],
   "source": [
    "#handling missing values\n",
    "df.isnull().sum()"
   ]
  },
  {
   "cell_type": "code",
   "execution_count": 96,
   "id": "22092575-12b4-4bb5-96de-6c01f3105c9c",
   "metadata": {},
   "outputs": [],
   "source": [
    "#since they are categorical data fill them with mode\n",
    "for i in[\"title\",\"text\"]:\n",
    "    df[i]=df[i].fillna(df[i].mode())"
   ]
  },
  {
   "cell_type": "code",
   "execution_count": 100,
   "id": "6d03f57d-98b0-4dc5-8f17-8443ce50eb71",
   "metadata": {},
   "outputs": [
    {
     "data": {
      "text/plain": [
       "Unnamed: 0      0\n",
       "title         558\n",
       "text           39\n",
       "label           0\n",
       "dtype: int64"
      ]
     },
     "execution_count": 100,
     "metadata": {},
     "output_type": "execute_result"
    }
   ],
   "source": [
    "df.isnull().sum()"
   ]
  },
  {
   "cell_type": "code",
   "execution_count": 109,
   "id": "ef15a5d1-12e8-4dff-91dc-40b8406639cd",
   "metadata": {},
   "outputs": [],
   "source": [
    "#since they are categorical data fill them with mode\n",
    "for i in[\"title\",\"text\"]:\n",
    "    df[i]=df[i].fillna(df[i].mode()[0])"
   ]
  },
  {
   "cell_type": "code",
   "execution_count": 111,
   "id": "61dc3ce3-617b-4641-8ac7-41271a5ec53a",
   "metadata": {},
   "outputs": [
    {
     "data": {
      "text/plain": [
       "Unnamed: 0    0\n",
       "title         0\n",
       "text          0\n",
       "label         0\n",
       "dtype: int64"
      ]
     },
     "execution_count": 111,
     "metadata": {},
     "output_type": "execute_result"
    }
   ],
   "source": [
    "df.isnull().sum()"
   ]
  },
  {
   "cell_type": "code",
   "execution_count": 115,
   "id": "892ee31f-1b70-4355-9015-975e3a879924",
   "metadata": {},
   "outputs": [],
   "source": [
    "from sklearn.preprocessing import MinMaxScaler\n",
    "\n",
    "scaler = MinMaxScaler()\n",
    "df[df.select_dtypes(include=\"number\").columns] = scaler.fit_transform(df.select_dtypes(include=\"number\"))\n"
   ]
  },
  {
   "cell_type": "code",
   "execution_count": 123,
   "id": "bb00a5c6-630c-4090-8cf3-0431b14051ca",
   "metadata": {},
   "outputs": [],
   "source": [
    "from sklearn.preprocessing import LabelEncoder\n",
    "\n",
    "le = LabelEncoder()\n",
    "\n",
    "df['title'] = le.fit_transform(df['title'].astype(str))  # Convert NaNs to string\n",
    "df['text'] = le.fit_transform(df['text'].astype(str))\n"
   ]
  },
  {
   "cell_type": "code",
   "execution_count": 134,
   "id": "c259f0a5-99b3-440d-b5f8-8670e78892a8",
   "metadata": {},
   "outputs": [
    {
     "name": "stdout",
     "output_type": "stream",
     "text": [
      "         Unnamed: 0         title          text         label\n",
      "count  72134.000000  72134.000000  72134.000000  72134.000000\n",
      "mean       0.500000  31582.551099  30789.753057      0.514404\n",
      "std        0.288681  17751.528767  18341.872095      0.499796\n",
      "min        0.000000      0.000000      0.000000      0.000000\n",
      "25%        0.250000  16282.250000  14887.250000      0.000000\n",
      "50%        0.500000  31408.500000  30754.500000      1.000000\n",
      "75%        0.750000  46926.750000  46556.750000      1.000000\n",
      "max        1.000000  62346.000000  62717.000000      1.000000\n"
     ]
    }
   ],
   "source": [
    "print(df.describe())  # Check min, max, mean, etc.\n"
   ]
  },
  {
   "cell_type": "code",
   "execution_count": null,
   "id": "b1f60544-7469-4dd0-aa98-f9e541a90199",
   "metadata": {},
   "outputs": [],
   "source": []
  },
  {
   "cell_type": "code",
   "execution_count": 125,
   "id": "cc056a25-9445-4ba4-b2ea-9e308cdf6d42",
   "metadata": {},
   "outputs": [
    {
     "name": "stdout",
     "output_type": "stream",
     "text": [
      "   title   text\n",
      "0  32786  34016\n",
      "1  23713  16056\n",
      "2  56848   1431\n",
      "3  14758   5257\n",
      "4  44281  45159\n"
     ]
    }
   ],
   "source": [
    "print(df[['title', 'text']].head())  # Display first few rows\n"
   ]
  },
  {
   "cell_type": "code",
   "execution_count": null,
   "id": "223bc65d-57dd-4227-b771-3a17bbaba105",
   "metadata": {},
   "outputs": [],
   "source": []
  }
 ],
 "metadata": {
  "kernelspec": {
   "display_name": "Python [conda env:base] *",
   "language": "python",
   "name": "conda-base-py"
  },
  "language_info": {
   "codemirror_mode": {
    "name": "ipython",
    "version": 3
   },
   "file_extension": ".py",
   "mimetype": "text/x-python",
   "name": "python",
   "nbconvert_exporter": "python",
   "pygments_lexer": "ipython3",
   "version": "3.12.7"
  }
 },
 "nbformat": 4,
 "nbformat_minor": 5
}
